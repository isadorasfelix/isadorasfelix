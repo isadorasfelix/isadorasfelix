{
  "nbformat": 4,
  "nbformat_minor": 0,
  "metadata": {
    "colab": {
      "provenance": [],
      "authorship_tag": "ABX9TyPVkahGJ+1OeAJR16aGhshz",
      "include_colab_link": true
    },
    "kernelspec": {
      "name": "python3",
      "display_name": "Python 3"
    },
    "language_info": {
      "name": "python"
    }
  },
  "cells": [
    {
      "cell_type": "markdown",
      "metadata": {
        "id": "view-in-github",
        "colab_type": "text"
      },
      "source": [
        "<a href=\"https://colab.research.google.com/github/isadorasfelix/isadorasfelix/blob/main/Desafio_Infer%C3%AAncia.ipynb\" target=\"_parent\"><img src=\"https://colab.research.google.com/assets/colab-badge.svg\" alt=\"Open In Colab\"/></a>"
      ]
    },
    {
      "cell_type": "markdown",
      "source": [
        "# 1. Introdução\n"
      ],
      "metadata": {
        "id": "X1AHOINmN3mp"
      }
    },
    {
      "cell_type": "markdown",
      "source": [
        "Neste desafio, utilizaremos dados de uma pesquisa realizada anualmente nos Estados Unidos para avaliar (1) qual o perfil de indivíduos (adultos maiores de 18 anos) com sintomas depressivos nos EUA no período de 2005-2006, e (2) se hábitos saudáveis de alimentação e atividade física estão associados a menores índices de depressão nesta população."
      ],
      "metadata": {
        "id": "YciPrNqVQjHM"
      }
    },
    {
      "cell_type": "markdown",
      "source": [
        "# 2. Bibliotecas"
      ],
      "metadata": {
        "id": "VVK5DEPFN6Cp"
      }
    },
    {
      "cell_type": "code",
      "source": [
        "import pandas as pd\n",
        "import numpy as np\n",
        "import seaborn as sns\n",
        "import matplotlib.pyplot as plt"
      ],
      "metadata": {
        "id": "jSr7km-WRtAF"
      },
      "execution_count": null,
      "outputs": []
    },
    {
      "cell_type": "markdown",
      "source": [
        "# 3. Leitura do Banco de Dados\n"
      ],
      "metadata": {
        "id": "oJhmdV2uPYIB"
      }
    },
    {
      "cell_type": "code",
      "source": [
        "from google.colab import drive\n",
        "drive.mount('/content/drive')"
      ],
      "metadata": {
        "colab": {
          "base_uri": "https://localhost:8080/"
        },
        "id": "-d1PCUZmRpxI",
        "outputId": "531e93ed-04fa-4b72-d850-7fab72a65e2f"
      },
      "execution_count": null,
      "outputs": [
        {
          "output_type": "stream",
          "name": "stdout",
          "text": [
            "Mounted at /content/drive\n"
          ]
        }
      ]
    },
    {
      "cell_type": "code",
      "source": [
        "demo = pd.read_csv('/content/drive/MyDrive/Data Science - Projetos/Desafio Inferência/demo_phq.csv')\n",
        "pag_hei = pd.read_csv('/content/drive/MyDrive/Data Science - Projetos/Desafio Inferência/pag_hei.csv')"
      ],
      "metadata": {
        "id": "v2JuD08-R4qM"
      },
      "execution_count": null,
      "outputs": []
    },
    {
      "cell_type": "markdown",
      "source": [
        "# 4. Visualização Preliminar dos Dados\n"
      ],
      "metadata": {
        "id": "BoIDZD7zPaBK"
      }
    },
    {
      "cell_type": "markdown",
      "source": [
        "# 5. Análise"
      ],
      "metadata": {
        "id": "MMDSZ9xBPcWE"
      }
    },
    {
      "cell_type": "markdown",
      "source": [
        "# 6. Modelagem"
      ],
      "metadata": {
        "id": "9S2JNYm1Phyf"
      }
    }
  ]
}